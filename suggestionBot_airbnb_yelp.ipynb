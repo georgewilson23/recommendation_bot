{
 "cells": [
  {
   "cell_type": "markdown",
   "metadata": {},
   "source": [
    "## This python notebook outlines a method to generate tweets \n",
    "## The tweets provide airbnb recommondations and top food choices nearby given an inputed  location/zipcode. \n",
    "### It automatically tweets/replies when the user runs the portion of code"
   ]
  },
  {
   "cell_type": "markdown",
   "metadata": {},
   "source": [
    "## Getting started with the yelp api"
   ]
  },
  {
   "cell_type": "code",
   "execution_count": 1,
   "metadata": {
    "collapsed": true
   },
   "outputs": [],
   "source": [
    "import requests\n",
    "import pandas as pd\n",
    "import re\n",
    "import random"
   ]
  },
  {
   "cell_type": "code",
   "execution_count": 2,
   "metadata": {
    "collapsed": true
   },
   "outputs": [],
   "source": [
    "client_id = #INSERT CLIENT ID FOR YELP FUSION API HERE (STRING)***********************************\n",
    "client_secret = #INSERT CLIENT SECRET FOR YELP FUSION API HERE ***********************************"
   ]
  },
  {
   "cell_type": "code",
   "execution_count": 3,
   "metadata": {
    "collapsed": false
   },
   "outputs": [],
   "source": [
    "#pip install yelpapi in the cmd line\n",
    "from yelpapi import YelpAPI\n",
    "yelp_api = YelpAPI(client_id, client_secret)\n",
    "search_results = yelp_api.search_query(location = \"00165\") #practice using the search query"
   ]
  },
  {
   "cell_type": "code",
   "execution_count": 56,
   "metadata": {
    "collapsed": false
   },
   "outputs": [
    {
     "data": {
      "text/plain": [
       "1497"
      ]
     },
     "execution_count": 56,
     "metadata": {},
     "output_type": "execute_result"
    }
   ],
   "source": [
    "search_results.get(\"total\")\n",
    "#1497 businesses in zip code 00165"
   ]
  },
  {
   "cell_type": "code",
   "execution_count": 5,
   "metadata": {
    "collapsed": false
   },
   "outputs": [
    {
     "data": {
      "text/plain": [
       "str"
      ]
     },
     "execution_count": 5,
     "metadata": {},
     "output_type": "execute_result"
    }
   ],
   "source": [
    "type(brunch.at[2,'zipcode']) #zipcode is type string, for future reference"
   ]
  },
  {
   "cell_type": "code",
   "execution_count": null,
   "metadata": {
    "collapsed": true
   },
   "outputs": [],
   "source": [
    "#Visualize json-like (complicated dictionary-list combination) output to analyze later\n",
    "breakfast = yelp_api.search_query(categories = \"breakfast_brunch,cafes\", latitude = 41.876854, longitude = 12.539091, radius = 1000, sort_by= 'rating', price = \"1,2\", limit = 50)\n",
    "breakfast.get(\"businesses\")[3]"
   ]
  },
  {
   "cell_type": "markdown",
   "metadata": {},
   "source": [
    "## Load Airbnb Data\n",
    "### Download csv from http://insideairbnb.com/get-the-data.html\n",
    "#### (Or scrape it yourself)"
   ]
  },
  {
   "cell_type": "code",
   "execution_count": 5,
   "metadata": {
    "collapsed": true
   },
   "outputs": [],
   "source": [
    "#Read the data in from your local drive\n",
    "listings = pd.read_csv(\"C:/Users/Student/Desktop/listings.csv\", dtype={\"license\" : str, \"zipcode\" : str })"
   ]
  },
  {
   "cell_type": "code",
   "execution_count": null,
   "metadata": {
    "collapsed": false
   },
   "outputs": [],
   "source": [
    "#get list of column values to understand what we have\n",
    "list(listings.columns.values)"
   ]
  },
  {
   "cell_type": "code",
   "execution_count": 67,
   "metadata": {
    "collapsed": true
   },
   "outputs": [],
   "source": [
    "#Select relevant columns\n",
    "df = listings[[\"host_name\",\"listing_url\",\"room_type\",\"review_scores_rating\",\"review_scores_location\",\"latitude\",\"longitude\",\"beds\",\"price\",\"accommodates\",\"number_of_reviews\"]]"
   ]
  },
  {
   "cell_type": "code",
   "execution_count": 68,
   "metadata": {
    "collapsed": false
   },
   "outputs": [
    {
     "name": "stderr",
     "output_type": "stream",
     "text": [
      "C:\\Users\\Student\\Anaconda3\\lib\\site-packages\\pandas\\core\\generic.py:2773: SettingWithCopyWarning: \n",
      "A value is trying to be set on a copy of a slice from a DataFrame.\n",
      "Try using .loc[row_indexer,col_indexer] = value instead\n",
      "\n",
      "See the caveats in the documentation: http://pandas.pydata.org/pandas-docs/stable/indexing.html#indexing-view-versus-copy\n",
      "  self[name] = value\n"
     ]
    },
    {
     "data": {
      "text/html": [
       "<div>\n",
       "<table border=\"1\" class=\"dataframe\">\n",
       "  <thead>\n",
       "    <tr style=\"text-align: right;\">\n",
       "      <th></th>\n",
       "      <th>host_name</th>\n",
       "      <th>listing_url</th>\n",
       "      <th>room_type</th>\n",
       "      <th>review_scores_rating</th>\n",
       "      <th>review_scores_location</th>\n",
       "      <th>latitude</th>\n",
       "      <th>longitude</th>\n",
       "      <th>beds</th>\n",
       "      <th>price</th>\n",
       "      <th>accommodates</th>\n",
       "      <th>number_of_reviews</th>\n",
       "    </tr>\n",
       "  </thead>\n",
       "  <tbody>\n",
       "    <tr>\n",
       "      <th>25270</th>\n",
       "      <td>Alessia</td>\n",
       "      <td>https://www.airbnb.com/rooms/18144886</td>\n",
       "      <td>Private room</td>\n",
       "      <td>100.0</td>\n",
       "      <td>10.0</td>\n",
       "      <td>41.823673</td>\n",
       "      <td>12.635800</td>\n",
       "      <td>4.0</td>\n",
       "      <td>55.0</td>\n",
       "      <td>5</td>\n",
       "      <td>1</td>\n",
       "    </tr>\n",
       "    <tr>\n",
       "      <th>25271</th>\n",
       "      <td>Loredana</td>\n",
       "      <td>https://www.airbnb.com/rooms/18149478</td>\n",
       "      <td>Entire home/apt</td>\n",
       "      <td>NaN</td>\n",
       "      <td>NaN</td>\n",
       "      <td>41.802475</td>\n",
       "      <td>12.595191</td>\n",
       "      <td>1.0</td>\n",
       "      <td>48.0</td>\n",
       "      <td>2</td>\n",
       "      <td>0</td>\n",
       "    </tr>\n",
       "    <tr>\n",
       "      <th>25272</th>\n",
       "      <td>Katia</td>\n",
       "      <td>https://www.airbnb.com/rooms/18326174</td>\n",
       "      <td>Entire home/apt</td>\n",
       "      <td>NaN</td>\n",
       "      <td>NaN</td>\n",
       "      <td>41.734215</td>\n",
       "      <td>12.259200</td>\n",
       "      <td>3.0</td>\n",
       "      <td>89.0</td>\n",
       "      <td>5</td>\n",
       "      <td>0</td>\n",
       "    </tr>\n",
       "    <tr>\n",
       "      <th>25273</th>\n",
       "      <td>Andrea</td>\n",
       "      <td>https://www.airbnb.com/rooms/16872329</td>\n",
       "      <td>Entire home/apt</td>\n",
       "      <td>NaN</td>\n",
       "      <td>NaN</td>\n",
       "      <td>41.909047</td>\n",
       "      <td>12.262159</td>\n",
       "      <td>2.0</td>\n",
       "      <td>45.0</td>\n",
       "      <td>1</td>\n",
       "      <td>0</td>\n",
       "    </tr>\n",
       "    <tr>\n",
       "      <th>25274</th>\n",
       "      <td>Silvia</td>\n",
       "      <td>https://www.airbnb.com/rooms/18054968</td>\n",
       "      <td>Entire home/apt</td>\n",
       "      <td>NaN</td>\n",
       "      <td>NaN</td>\n",
       "      <td>41.825853</td>\n",
       "      <td>12.727577</td>\n",
       "      <td>3.0</td>\n",
       "      <td>36.0</td>\n",
       "      <td>4</td>\n",
       "      <td>0</td>\n",
       "    </tr>\n",
       "  </tbody>\n",
       "</table>\n",
       "</div>"
      ],
      "text/plain": [
       "      host_name                            listing_url        room_type  \\\n",
       "25270   Alessia  https://www.airbnb.com/rooms/18144886     Private room   \n",
       "25271  Loredana  https://www.airbnb.com/rooms/18149478  Entire home/apt   \n",
       "25272     Katia  https://www.airbnb.com/rooms/18326174  Entire home/apt   \n",
       "25273    Andrea  https://www.airbnb.com/rooms/16872329  Entire home/apt   \n",
       "25274    Silvia  https://www.airbnb.com/rooms/18054968  Entire home/apt   \n",
       "\n",
       "       review_scores_rating  review_scores_location   latitude  longitude  \\\n",
       "25270                 100.0                    10.0  41.823673  12.635800   \n",
       "25271                   NaN                     NaN  41.802475  12.595191   \n",
       "25272                   NaN                     NaN  41.734215  12.259200   \n",
       "25273                   NaN                     NaN  41.909047  12.262159   \n",
       "25274                   NaN                     NaN  41.825853  12.727577   \n",
       "\n",
       "       beds  price  accommodates  number_of_reviews  \n",
       "25270   4.0   55.0             5                  1  \n",
       "25271   1.0   48.0             2                  0  \n",
       "25272   3.0   89.0             5                  0  \n",
       "25273   2.0   45.0             1                  0  \n",
       "25274   3.0   36.0             4                  0  "
      ]
     },
     "execution_count": 68,
     "metadata": {},
     "output_type": "execute_result"
    }
   ],
   "source": [
    "#Use regular expressions so that the price column can be used and manipulated\n",
    "df.price = (df['price'].replace( '[\\$,)]','', regex=True ).astype(float))\n",
    "#check\n",
    "df.tail()\n",
    "type(df.at[120,'price'])"
   ]
  },
  {
   "cell_type": "code",
   "execution_count": 7,
   "metadata": {
    "collapsed": false
   },
   "outputs": [
    {
     "data": {
      "text/plain": [
       "numpy.int64"
      ]
     },
     "execution_count": 7,
     "metadata": {},
     "output_type": "execute_result"
    }
   ],
   "source": [
    "#check type in other columns\n",
    "type(df.at[120,'accommodates'])"
   ]
  },
  {
   "cell_type": "code",
   "execution_count": 69,
   "metadata": {
    "collapsed": false
   },
   "outputs": [],
   "source": [
    "#Filter the airbnb search into a smaller list since Rome is so large\n",
    "#Adjust price range and rating as preferred\n",
    "df_filtered = df.query('price<120').query('review_scores_rating>95').query('review_scores_location>=8')\n",
    "#reset index \n",
    "df_filtered = df_filtered.reset_index()\n",
    "df_filtered.tail()"
   ]
  },
  {
   "cell_type": "code",
   "execution_count": 71,
   "metadata": {
    "collapsed": false
   },
   "outputs": [],
   "source": [
    "#These \"fluff\" words allow tweets to be Unique\n",
    "opening_line = ['Accommodation for', '#Suggestion for','Trip for','Itinerary for','Getaway for',\"Rome! For\"]\n",
    "next_line =['Enjoy', \"Head to\", \"We recommend\", \"\", \"Test\",  \"Try\",\"Test out\", \"Eat at\"]\n",
    "drink_line = ['Grab a drink at', 'Sit down and stay awhile at', \"Experience the nightlife at\"]\n",
    "hashtag = [\"#RVaction\", \"#Rome\", \"#ROMEing\", \"#Travel\",\"ROMEantic\"]"
   ]
  },
  {
   "cell_type": "markdown",
   "metadata": {
    "collapsed": true
   },
   "source": [
    "## Generate tweets using yelp, airbnb filtered data\n",
    "### Replies generated to provide reference to booking with airbnb host"
   ]
  },
  {
   "cell_type": "code",
   "execution_count": null,
   "metadata": {
    "collapsed": true
   },
   "outputs": [],
   "source": [
    "running = True"
   ]
  },
  {
   "cell_type": "code",
   "execution_count": 93,
   "metadata": {
    "collapsed": true
   },
   "outputs": [],
   "source": [
    "tweets = []\n",
    "reply_tweets = []"
   ]
  },
  {
   "cell_type": "code",
   "execution_count": 94,
   "metadata": {
    "collapsed": false
   },
   "outputs": [
    {
     "name": "stdout",
     "output_type": "stream",
     "text": [
      "Do you want to generate a tweet? (y/n)y\n",
      "New tweet generated.\n",
      "Do you want to generate a tweet? (y/n)n\n",
      "Tweet generation stopped. You generated these tweets:\n",
      "[\"Getaway for 5 at Gabriella's place. Enjoy Agorà for breakfast, Asahi for dinner and Il Serpente for drinks! #Rome\"]\n"
     ]
    }
   ],
   "source": [
    "#Follow prompts, everything is randomized, ensures tweets fit 140 character limit\n",
    "while running == True:\n",
    "    begin = input(\"Do you want to generate a tweet? (y/n)\")\n",
    "    \n",
    "    if (begin == 'y'):\n",
    "        rand = random.randint(0,len(df_filtered.index) - 1) \n",
    "        host_name = df_filtered.at[rand,'host_name']\n",
    "        price = df_filtered.at[rand,'price']\n",
    "        lat_airbnb = df_filtered.at[rand,'latitude']\n",
    "        long_airbnb = df_filtered.at[rand,'longitude']\n",
    "        accommodates = df_filtered.at[rand,'accommodates']\n",
    "        rand_line = random.randint(0, len(opening_line) - 1)\n",
    "        next_rand = random.randint(0, len(next_line) - 1)\n",
    "        \n",
    "        breakfast = (yelp_api.search_query(term = \"breakfast,brunch\", latitude = lat_airbnb, longitude = long_airbnb, radius = 1000, sort_by= 'rating', price = \"1,2\", limit = 50))\n",
    "        dinner = yelp_api.search_query(term = \"dinner\", latitude = lat_airbnb, longitude = long_airbnb, radius = 1000, sort_by= 'rating', price = \"1,2\", limit = 50)\n",
    "        drinks = yelp_api.search_query(categories = \"bars\", latitude = lat_airbnb, longitude = long_airbnb, radius = 1000, sort_by= 'rating', price = \"1,2\", limit = 50)\n",
    "        if (breakfast.get(\"total\") < 2 or dinner.get(\"total\") < 2 or drinks.get(\"total\") < 2):\n",
    "            print(\"Airbnb didn't produce enough results. Trying again...\")\n",
    "        else:\n",
    "            \n",
    "            rand_brunch = random.randint(0, len(breakfast.get(\"businesses\")) - 1)\n",
    "            breakfast_place = ((breakfast.get(\"businesses\"))[rand_brunch]).get(\"name\")\n",
    "            \n",
    "            rand_din = random.randint(0, len(dinner.get(\"businesses\")) -1)\n",
    "            dinner_place = ((dinner.get(\"businesses\"))[rand_din]).get(\"name\")\n",
    "            \n",
    "            rand_drank = random.randint(0, len(drinks.get(\"businesses\")) -1)\n",
    "            drinks_place = ((drinks.get(\"businesses\"))[rand_drank]).get(\"name\")\n",
    "            rand_hashtag = random.randint(0, len(hashtag) -1)\n",
    "            new_tweet = opening_line[rand_line] + \" \" + str(accommodates) + \" at \" + host_name + \"'s place. \"  + next_line[next_rand] + \" \" + breakfast_place + \" for breakfast, \" + dinner_place + \" for dinner and \" + drinks_place + \" for drinks! \" + hashtag[rand_hashtag]\n",
    "            reply_url = df_filtered.at[rand,'listing_url']\n",
    "            reply_tweet = \"Find out about \" + host_name + \"'s airbnb at: \" + reply_url\n",
    "            \n",
    "            if len(new_tweet) <= 140:\n",
    "                print(\"New tweet generated.\")\n",
    "                tweets.append(new_tweet)\n",
    "                reply_tweets.append(reply_tweet)\n",
    "            else:\n",
    "                print(\"Tweet too long :(\")\n",
    "                \n",
    "    else:\n",
    "        print(\"Tweet generation stopped. You generated these tweets:\")\n",
    "        print(tweets)\n",
    "        running == False\n",
    "        break\n"
   ]
  },
  {
   "cell_type": "code",
   "execution_count": 96,
   "metadata": {
    "collapsed": false
   },
   "outputs": [
    {
     "name": "stdout",
     "output_type": "stream",
     "text": [
      "Find out about Gabriella's airbnb at: https://www.airbnb.com/rooms/5639167\n"
     ]
    }
   ],
   "source": [
    "#breakfast = (yelp_api.search_query(term = \"breakfast,brunch\", latitude = lat_airbnb, longitude = long_airbnb, radius = 1000, sort_by= 'rating', price = \"1,2\", limit = 50))\n",
    "#breakfast_place = ((breakfast.get(\"businesses\"))[0]).get(\"name\")\n",
    "#print(len(breakfast.get('businesses')))\n",
    "#print(breakfast.get('total'))\n",
    "#print(breakfast_place)\n",
    "for tweet in reply_tweets:\n",
    "    print(tweet)"
   ]
  },
  {
   "cell_type": "markdown",
   "metadata": {},
   "source": [
    "# Using twitter api to send tweets"
   ]
  },
  {
   "cell_type": "code",
   "execution_count": null,
   "metadata": {
    "collapsed": true
   },
   "outputs": [],
   "source": [
    "from twython import Twython\n",
    "import webbrowser as wb\n",
    "from selenium import webdriver\n",
    "from selenium.common.exceptions import NoSuchElementException\n",
    "from selenium.webdriver.support import expected_conditions as EC\n",
    "from selenium.webdriver.support.ui import WebDriverWait\n",
    "import time"
   ]
  },
  {
   "cell_type": "code",
   "execution_count": null,
   "metadata": {
    "collapsed": true
   },
   "outputs": [],
   "source": [
    "app_key = #INSERT YOUR APP KEY HERE FROM TWITTER DEVELOPER \n",
    "app_secret = #INSERT YOUR APP SECRET HERE"
   ]
  },
  {
   "cell_type": "code",
   "execution_count": 99,
   "metadata": {
    "collapsed": true
   },
   "outputs": [],
   "source": [
    "twitter = Twython(app_key, app_secret)\n",
    "auth = twitter.get_authentication_tokens(callback_url='https://google.com')\n",
    "\n",
    "Oauth_Token = auth['oauth_token']\n",
    "Oauth_Token_Secret = auth['oauth_token_secret']\n",
    "#install webdrive for chrome (or other browser), download to desktop\n",
    "driver = webdriver.Chrome(executable_path = \"C:/Users/Student/Desktop/chromedriver\")"
   ]
  },
  {
   "cell_type": "code",
   "execution_count": null,
   "metadata": {
    "collapsed": false
   },
   "outputs": [],
   "source": [
    "start = input(\"Welcome to Twitter authorization. Would you like to continue or terminate? (y / n)\")\n",
    "if (start == \"y\"):\n",
    "    driver.get(auth['auth_url'])\n",
    "    try:\n",
    "        driver.find_element_by_name('session[username_or_email]').send_keys()#Insert Username as argument\n",
    "        driver.find_element_by_name('session[password]').send_keys()#Insert Passoword in parentheses\n",
    "        driver.find_element_by_id('allow').click()\n",
    "    except NoSuchElementException:\n",
    "        print(\"Not the login page\")\n",
    "    time.sleep(5)\n",
    "    ex = re.compile('(?<=oauth_verifier=)[a-zA-Z0-9]+')\n",
    "    verifier = ex.findall(driver.current_url)\n",
    "    t = Twython(app_key, app_secret, Oauth_Token, Oauth_Token_Secret)\n",
    "    final_step = t.get_authorized_tokens(verifier)\n",
    "    tw = Twython(app_key, app_secret, final_step['oauth_token'], final_step['oauth_token_secret'])\n",
    "    print(final_step)\n",
    "    tw.update_status(status = tweets[0]) #change index 0 to the specific tweet you want or change to a loop to tweet all generated tweets.\n",
    "    time.sleep(5)\n",
    "    recent_tweet = tw.get_user_timeline(user_id = IDHERE, count = 1, include_rts = False)\n",
    "    status_id = recent_tweet[0]['id']\n",
    "    tw.update_status(status = reply_tweets[0], in_reply_to_status_id = status_id) #change index 0 of reply_tweets to same as tweets[INDEX]\n",
    "    \n",
    "    timeLine = input(\"See timeline? (y / n)\")\n",
    "    if (timeLine == \"y\"):\n",
    "        print(tw.get_home_timeline())\n",
    "    else:\n",
    "        print(\"Program Stop\")\n",
    "        break\n",
    "else:\n",
    "    print(\"Program Stop\")\n",
    "    break"
   ]
  },
  {
   "cell_type": "code",
   "execution_count": null,
   "metadata": {
    "collapsed": true
   },
   "outputs": [],
   "source": []
  }
 ],
 "metadata": {
  "kernelspec": {
   "display_name": "Python 3",
   "language": "python",
   "name": "python3"
  },
  "language_info": {
   "codemirror_mode": {
    "name": "ipython",
    "version": 3
   },
   "file_extension": ".py",
   "mimetype": "text/x-python",
   "name": "python",
   "nbconvert_exporter": "python",
   "pygments_lexer": "ipython3",
   "version": "3.6.0"
  }
 },
 "nbformat": 4,
 "nbformat_minor": 2
}
